{
  "cells": [
    {
      "cell_type": "raw",
      "metadata": {},
      "source": [
        "---\n",
        "title: \"STATA Code Templates\"\n",
        "summary: >-\n",
        "  Templates for commonly used STATA commands\n",
        "---"
      ],
      "id": "42ee9810"
    },
    {
      "cell_type": "markdown",
      "metadata": {},
      "source": [
        "This guide will...\n",
        "\n",
        "##Log File Code Template##\n",
        "\n",
        "\n",
        "```{stata eval = FALSE}\n",
        "capture log close\n",
        "local date : di %tdCY-N-D date(c(current_date), \"DMY\")\n",
        "local logfile \"$logs/visit_regs_`date'.log\"\n",
        "log using \"`logfile'\", replace text\n",
        "```"
      ],
      "id": "3d9ffa82"
    }
  ],
  "metadata": {
    "kernelspec": {
      "display_name": "Python 3",
      "language": "python",
      "name": "python3"
    }
  },
  "nbformat": 4,
  "nbformat_minor": 5
}